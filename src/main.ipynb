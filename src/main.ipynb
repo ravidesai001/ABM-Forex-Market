{
 "cells": [
  {
   "cell_type": "code",
   "execution_count": 2,
   "metadata": {},
   "outputs": [
    {
     "data": {
      "text/plain": [
       "<matplotlib.collections.PathCollection at 0x7f21a329c580>"
      ]
     },
     "execution_count": 2,
     "metadata": {},
     "output_type": "execute_result"
    },
    {
     "data": {
      "image/png": "[encoded data removed]",
      "text/plain": [
       "<Figure size 432x288 with 1 Axes>"
      ]
     },
     "metadata": {
      "needs_background": "light"
     },
     "output_type": "display_data"
    }
   ],
   "source": [
    "from model import *\n",
    "import matplotlib.pyplot as plt\n",
    "import pandas as pd\n",
    "\n",
    "model = FXModel(5, 50)\n",
    "for i in range(1000):\n",
    "    model.step()\n",
    "\n",
    "data = model.datacollector.get_model_vars_dataframe()\n",
    "plt.scatter(data.index.tolist(), data['Spread'].tolist())"
   ]
  },
  {
   "cell_type": "code",
   "execution_count": 4,
   "metadata": {},
   "outputs": [
    {
     "name": "stderr",
     "output_type": "stream",
     "text": [
      "5it [01:02, 12.49s/it]\n"
     ]
    },
    {
     "data": {
      "text/html": [
       "<div>\n",
       "<style scoped>\n",
       "    .dataframe tbody tr th:only-of-type {\n",
       "        vertical-align: middle;\n",
       "    }\n",
       "\n",
       "    .dataframe tbody tr th {\n",
       "        vertical-align: top;\n",
       "    }\n",
       "\n",
       "    .dataframe thead th {\n",
       "        text-align: right;\n",
       "    }\n",
       "</style>\n",
       "<table border=\"1\" class=\"dataframe\">\n",
       "  <thead>\n",
       "    <tr style=\"text-align: right;\">\n",
       "      <th></th>\n",
       "      <th>RunId</th>\n",
       "      <th>iteration</th>\n",
       "      <th>Step</th>\n",
       "      <th>NumBanks</th>\n",
       "      <th>NumTraders</th>\n",
       "      <th>Bid</th>\n",
       "      <th>Offer</th>\n",
       "      <th>Spread</th>\n",
       "      <th>Trades</th>\n",
       "    </tr>\n",
       "  </thead>\n",
       "  <tbody>\n",
       "    <tr>\n",
       "      <th>0</th>\n",
       "      <td>0</td>\n",
       "      <td>0</td>\n",
       "      <td>2000</td>\n",
       "      <td>5</td>\n",
       "      <td>50</td>\n",
       "      <td>1.212571</td>\n",
       "      <td>1.212652</td>\n",
       "      <td>0.811667</td>\n",
       "      <td>131</td>\n",
       "    </tr>\n",
       "    <tr>\n",
       "      <th>1</th>\n",
       "      <td>1</td>\n",
       "      <td>1</td>\n",
       "      <td>2000</td>\n",
       "      <td>5</td>\n",
       "      <td>50</td>\n",
       "      <td>1.212571</td>\n",
       "      <td>1.212652</td>\n",
       "      <td>0.811667</td>\n",
       "      <td>237</td>\n",
       "    </tr>\n",
       "    <tr>\n",
       "      <th>2</th>\n",
       "      <td>2</td>\n",
       "      <td>2</td>\n",
       "      <td>2000</td>\n",
       "      <td>5</td>\n",
       "      <td>50</td>\n",
       "      <td>1.212571</td>\n",
       "      <td>1.212652</td>\n",
       "      <td>0.811667</td>\n",
       "      <td>212</td>\n",
       "    </tr>\n",
       "    <tr>\n",
       "      <th>3</th>\n",
       "      <td>3</td>\n",
       "      <td>3</td>\n",
       "      <td>2000</td>\n",
       "      <td>5</td>\n",
       "      <td>50</td>\n",
       "      <td>1.212571</td>\n",
       "      <td>1.212652</td>\n",
       "      <td>0.811667</td>\n",
       "      <td>203</td>\n",
       "    </tr>\n",
       "    <tr>\n",
       "      <th>4</th>\n",
       "      <td>4</td>\n",
       "      <td>4</td>\n",
       "      <td>2000</td>\n",
       "      <td>5</td>\n",
       "      <td>50</td>\n",
       "      <td>1.212571</td>\n",
       "      <td>1.212652</td>\n",
       "      <td>0.811667</td>\n",
       "      <td>229</td>\n",
       "    </tr>\n",
       "  </tbody>\n",
       "</table>\n",
       "</div>"
      ],
      "text/plain": [
       "   RunId  iteration  Step  NumBanks  NumTraders       Bid     Offer    Spread  \\\n",
       "0      0          0  2000         5          50  1.212571  1.212652  0.811667   \n",
       "1      1          1  2000         5          50  1.212571  1.212652  0.811667   \n",
       "2      2          2  2000         5          50  1.212571  1.212652  0.811667   \n",
       "3      3          3  2000         5          50  1.212571  1.212652  0.811667   \n",
       "4      4          4  2000         5          50  1.212571  1.212652  0.811667   \n",
       "\n",
       "   Trades  \n",
       "0     131  \n",
       "1     237  \n",
       "2     212  \n",
       "3     203  \n",
       "4     229  "
      ]
     },
     "execution_count": 4,
     "metadata": {},
     "output_type": "execute_result"
    }
   ],
   "source": [
    "from mesa.batchrunner import batch_run\n",
    "from model import FXModel\n",
    "import pandas as pd\n",
    "\n",
    "batch_run = batch_run(FXModel,\n",
    "                        {\"NumBanks\": 5, \"NumTraders\": 50},\n",
    "                        iterations=5,\n",
    "                        max_steps=2000)\n",
    "\n",
    "\n",
    "pd.DataFrame(batch_run)"
   ]
  },
  {
   "cell_type": "code",
   "execution_count": 5,
   "metadata": {},
   "outputs": [
    {
     "data": {
      "text/plain": [
       "<matplotlib.collections.PathCollection at 0x7f0e19e883d0>"
      ]
     },
     "execution_count": 5,
     "metadata": {},
     "output_type": "execute_result"
    },
    {
     "data": {
      "image/png": "[encoded data removed]",
      "text/plain": [
       "<Figure size 432x288 with 1 Axes>"
      ]
     },
     "metadata": {
      "needs_background": "light"
     },
     "output_type": "display_data"
    }
   ],
   "source": [
    "data = pd.read_csv(\"./data/probabilities.csv\", dtype=(float, float))\n",
    "X, y = [], []\n",
    "for row in data.itertuples(index=False):\n",
    "    X.append(row[0])\n",
    "    y.append(row[1])\n",
    "plt.scatter(X, y)"
   ]
  }
 ],
 "metadata": {
  "interpreter": {
   "hash": "916dbcbb3f70747c44a77c7bcd40155683ae19c65e1c03b4aa3499c5328201f1"
  },
  "kernelspec": {
   "display_name": "Python 3.8.10 64-bit",
   "language": "python",
   "name": "python3"
  },
  "language_info": {
   "codemirror_mode": {
    "name": "ipython",
    "version": 3
   },
   "file_extension": ".py",
   "mimetype": "text/x-python",
   "name": "python",
   "nbconvert_exporter": "python",
   "pygments_lexer": "ipython3",
   "version": "3.9.7"
  },
  "orig_nbformat": 4
 },
 "nbformat": 4,
 "nbformat_minor": 2
}
